{
 "cells": [
  {
   "cell_type": "markdown",
   "metadata": {},
   "source": [
    "# Antes de empezar :\n",
    "   - Estos ejercicios están relacionados con las lecciones Subconjunto y Estadísticas descriptivas.\n",
    "   - Tenga en cuenta que necesitará utilizar algunas de las funciones que aprendió en las lecciones anteriores.\n",
    "   - Todos los conjuntos de datos se proporcionan en la carpeta `your-code` de este laboratorio.\n",
    "   - Elabora tus códigos y resultados tanto como puedas.\n",
    "   - Esfuérzate al máximo para responder a las preguntas y completar las tareas y, sobre todo, ¡¡¡disfruta del proceso!!!"
   ]
  },
  {
   "cell_type": "markdown",
   "metadata": {},
   "source": [
    "#### Importa todas las librerías necesarias"
   ]
  },
  {
   "cell_type": "code",
   "execution_count": null,
   "metadata": {},
   "outputs": [],
   "source": [
    "# import libraries here\n",
    "\n",
    "import pandas as pd\n",
    "import numpy as np\n"
   ]
  },
  {
   "cell_type": "markdown",
   "metadata": {},
   "source": [
    "# Desafío 1"
   ]
  },
  {
   "cell_type": "markdown",
   "metadata": {},
   "source": [
    "#### En este reto utilizaremos el archivo `Temp_States.csv`. \n",
    "\n",
    "#### Primero impórtalo en un marco de datos llamado `temp`."
   ]
  },
  {
   "cell_type": "code",
   "execution_count": null,
   "metadata": {},
   "outputs": [],
   "source": [
    "# YOUR CODE HERE\n",
    "\n",
    "temp = pd.read_csv('./Temp_States.csv')"
   ]
  },
  {
   "cell_type": "markdown",
   "metadata": {},
   "source": [
    "#### Print `temp`"
   ]
  },
  {
   "cell_type": "code",
   "execution_count": null,
   "metadata": {},
   "outputs": [],
   "source": [
    "# your solution here\n",
    "\n",
    "print(temp)"
   ]
  },
  {
   "cell_type": "markdown",
   "metadata": {},
   "source": [
    "#### Explore los tipos de datos del marco de datos Temp. ¿Qué tipo de datos tenemos? Comenta tu resultado."
   ]
  },
  {
   "cell_type": "code",
   "execution_count": null,
   "metadata": {},
   "outputs": [],
   "source": [
    "# YOUR CODE HERE\n",
    "\n",
    "temp.head()"
   ]
  },
  {
   "cell_type": "code",
   "execution_count": null,
   "metadata": {},
   "outputs": [],
   "source": [
    "temp.dtypes"
   ]
  },
  {
   "cell_type": "markdown",
   "metadata": {},
   "source": [
    "Tenemos tres variables:\n",
    "\n",
    "- City: Cualitativa, Politomica, Nominal\n",
    "- State: Cualitativa, Politomica, Nominal\n",
    "- Temperature: Cuantitativas, Continua, Intervalo"
   ]
  },
  {
   "cell_type": "markdown",
   "metadata": {},
   "source": [
    "#### Selecciona las filas en las que el estado es New York"
   ]
  },
  {
   "cell_type": "code",
   "execution_count": null,
   "metadata": {},
   "outputs": [],
   "source": [
    "# YOUR CODE HERE\n",
    "\n",
    "ny_df = temp[temp['State'] == 'New York']\n",
    "ny_df"
   ]
  },
  {
   "cell_type": "markdown",
   "metadata": {},
   "source": [
    "#### ¿Cuál es la temperatura media de las ciudades de Nueva York?"
   ]
  },
  {
   "cell_type": "code",
   "execution_count": null,
   "metadata": {},
   "outputs": [],
   "source": [
    "# YOUR CODE HERE\n",
    "\n",
    "ny_df['Temperature'].mean()"
   ]
  },
  {
   "cell_type": "markdown",
   "metadata": {},
   "source": [
    "#### Queremos conocer las ciudades y estados con temperaturas superiores a 15 grados centígrados."
   ]
  },
  {
   "cell_type": "code",
   "execution_count": null,
   "metadata": {},
   "outputs": [],
   "source": [
    "# your answer here\n",
    "\n",
    "temp[temp['Temperature'] > 15]"
   ]
  },
  {
   "cell_type": "markdown",
   "metadata": {},
   "source": [
    "#### Ahora, devuelva sólo las ciudades que tengan una temperatura superior a 15 grados centígrados."
   ]
  },
  {
   "cell_type": "code",
   "execution_count": null,
   "metadata": {},
   "outputs": [],
   "source": [
    "# YOUR CODE HERE\n",
    "\n",
    "ret = temp[temp['Temperature'] > 15]\n",
    "cities_plus15 = ret['City']\n",
    "\n",
    "print(cities_plus15)"
   ]
  },
  {
   "cell_type": "markdown",
   "metadata": {},
   "source": [
    "#### Queremos saber qué ciudades tienen una temperatura superior a 15 grados Celcius e inferior a 20 grados Celcius\n",
    "\n",
    "*Pista: Primero escriba la condición y luego seleccione las filas."
   ]
  },
  {
   "cell_type": "code",
   "execution_count": null,
   "metadata": {},
   "outputs": [],
   "source": [
    "# YOUR CODE HERE\n",
    "\n",
    "ret = ret[ret['Temperature'] < 20]\n",
    "cities_plus15_minus20 = ret['City']\n",
    "\n",
    "cities_plus15_minus20"
   ]
  },
  {
   "cell_type": "markdown",
   "metadata": {},
   "source": [
    "#### Halla la media y la desviación estándar de la temperatura de cada estado.\n",
    "\n",
    "*Pista: Utiliza las funciones de la lección Manipulación de datos*."
   ]
  },
  {
   "cell_type": "code",
   "execution_count": null,
   "metadata": {},
   "outputs": [],
   "source": [
    "# YOUR CODE HERE\n",
    "\n",
    "temp['State'].unique()\n",
    "\n",
    "ny_m = temp[temp['State'] == 'New York']['Temperature'].mean()\n",
    "con_m = temp[temp['State'] == 'Connecticut']['Temperature'].mean()\n",
    "nj_m = temp[temp['State'] == 'New Jersey']['Temperature'].mean()\n",
    "\n",
    "ny_d = temp[temp['State'] == 'New York']['Temperature'].std()\n",
    "con_d = temp[temp['State'] == 'Connecticut']['Temperature'].std()\n",
    "nj_d = temp[temp['State'] == 'New Jersey']['Temperature'].std()\n",
    "\n",
    "print(f\"Media de los estados: Nueva York {ny_m}, Connecticut {con_m}, New Jersey {nj_m}\")\n",
    "print(f\"Desviacion de los estados: Nueva York {ny_d}, Connecticut {con_d}, New Jersey {nj_d}\")"
   ]
  },
  {
   "cell_type": "markdown",
   "metadata": {
    "collapsed": true
   },
   "source": [
    "# Desafío 2"
   ]
  },
  {
   "cell_type": "markdown",
   "metadata": {},
   "source": [
    "#### Cargar el fichero `employee.csv` en un DataFrame. Llama al dataframe `employee`."
   ]
  },
  {
   "cell_type": "code",
   "execution_count": null,
   "metadata": {},
   "outputs": [],
   "source": [
    "# YOUR CODE HERE\n",
    "\n",
    "employee = pd.read_csv('./Employee.csv')"
   ]
  },
  {
   "cell_type": "markdown",
   "metadata": {},
   "source": [
    "#### Explore los tipos de datos del marco de datos Temp. Comenta tus resultados"
   ]
  },
  {
   "cell_type": "code",
   "execution_count": null,
   "metadata": {},
   "outputs": [],
   "source": [
    "# YOUR CODE HERE\n",
    "\n",
    "employee.head()"
   ]
  },
  {
   "cell_type": "markdown",
   "metadata": {},
   "source": [
    "- Name: Cualitativas, Politomica, Nominal\n",
    "- Department: Cualitativas, Politomica, Nominal\n",
    "- Education: Cualitativas, Politomica, Ordinal\n",
    "- Gender: Cualitativas, Dicotomica, Nominal\n",
    "- Title: Cualitativas, Politomica, Ordinal\n",
    "- Years: Cuantitativas, Discreta, Razón\n",
    "- Salary: Cuantitativas, Discreta, Razón"
   ]
  },
  {
   "cell_type": "markdown",
   "metadata": {},
   "source": [
    "#### Muestre visualmente la distribución de frecuencias (histograma) del conjunto de datos de empleados. Describa en pocas palabras estos histogramas."
   ]
  },
  {
   "cell_type": "code",
   "execution_count": null,
   "metadata": {},
   "outputs": [],
   "source": [
    "import matplotlib.pyplot as plt\n",
    "import seaborn as sns"
   ]
  },
  {
   "cell_type": "code",
   "execution_count": null,
   "metadata": {},
   "outputs": [],
   "source": [
    "fig, ax = plt.subplots(1, 6, figsize=(20, 4))\n",
    "\n",
    "sns.histplot(data=employee, x=\"Salary\", bins=20, ax=ax[0])\n",
    "ax[0].set_xlabel('Salary')\n",
    "\n",
    "sns.histplot(data=employee, x=\"Years\", bins=20, ax=ax[1])\n",
    "ax[1].set_xlabel('Years')\n",
    "\n",
    "sns.countplot(data=employee, x=\"Gender\", ax=ax[2])\n",
    "ax[2].set_xlabel('Gender')\n",
    "\n",
    "sns.countplot(data=employee, x=\"Education\", ax=ax[3])\n",
    "ax[3].set_xlabel('Education')\n",
    "\n",
    "sns.countplot(data=employee, x=\"Department\", ax=ax[4])\n",
    "ax[4].set_xlabel('Department')\n",
    "\n",
    "sns.countplot(data=employee, x=\"Title\", ax=ax[5])\n",
    "ax[5].set_xlabel('Title')\n",
    "\n",
    "plt.tight_layout()\n",
    "plt.show()"
   ]
  },
  {
   "cell_type": "code",
   "execution_count": null,
   "metadata": {},
   "outputs": [],
   "source": [
    "plt.figure(figsize=(20, 6))\n",
    "\n",
    "plt.subplot(1, 5, 1)\n",
    "sns.scatterplot(data=employee, x='Years', y='Salary', hue='Department')\n",
    "plt.title('Salary vs Years')\n",
    "plt.xlabel('Years')\n",
    "plt.ylabel('Salary')\n",
    "\n",
    "plt.subplot(1, 5, 2)\n",
    "sns.barplot(data=employee, x='Gender', y='Salary')\n",
    "plt.title('Salary vs Gender')\n",
    "plt.xlabel('Gender')\n",
    "plt.ylabel('Salary')\n",
    "\n",
    "plt.subplot(1, 5, 3)\n",
    "sns.barplot(data=employee, x='Department', y='Salary')\n",
    "plt.title('Salary vs Department')\n",
    "plt.xlabel('Department')\n",
    "plt.ylabel('Salary')\n",
    "\n",
    "plt.subplot(1, 5, 4)\n",
    "sns.barplot(data=employee, x='Education', y='Salary')\n",
    "plt.title('Salary vs Education')\n",
    "plt.xlabel('Education')\n",
    "plt.ylabel('Salary')\n",
    "\n",
    "plt.subplot(1, 5, 5)\n",
    "sns.barplot(data=employee, x='Title', y='Salary')\n",
    "plt.title('Salary vs Title')\n",
    "plt.xlabel('Title')\n",
    "plt.ylabel('Salary')\n",
    "\n",
    "plt.tight_layout()\n",
    "plt.show()"
   ]
  },
  {
   "cell_type": "code",
   "execution_count": null,
   "metadata": {},
   "outputs": [],
   "source": [
    "# your answer here\n",
    "\n",
    "sns.histplot(employee['Department']) \n",
    "\n",
    "plt.title('Distribución de Department') # Título del histograma\n",
    "plt.xlabel('Categoria')                # Etiqueta del eje x\n",
    "plt.ylabel('Frecuencia')            # Etiqueta del eje y\n",
    "plt.show()                          # Mostramos el histograma"
   ]
  },
  {
   "cell_type": "code",
   "execution_count": null,
   "metadata": {},
   "outputs": [],
   "source": [
    "# YOUR CODE HERE\n",
    "\n",
    "sns.histplot(employee['Education'])\n",
    "\n",
    "plt.title('Distribución de Education') # Título del histograma\n",
    "plt.xlabel('Nivel Academico')                # Etiqueta del eje x\n",
    "plt.ylabel('Frecuencia')            # Etiqueta del eje y\n",
    "plt.show()                          # Mostramos el histograma"
   ]
  },
  {
   "cell_type": "code",
   "execution_count": null,
   "metadata": {},
   "outputs": [],
   "source": [
    "# YOUR CODE HERE\n",
    "\n",
    "sns.histplot(employee['Gender'])\n",
    "\n",
    "plt.title('Distribución de Género') # Título del histograma\n",
    "plt.xlabel('Género')                # Etiqueta del eje x\n",
    "plt.ylabel('Frecuencia')            # Etiqueta del eje y\n",
    "plt.show()                          # Mostramos el histograma"
   ]
  },
  {
   "cell_type": "code",
   "execution_count": null,
   "metadata": {},
   "outputs": [],
   "source": [
    "# YOUR CODE HERE\n",
    "\n",
    "sns.histplot(employee['Title'])\n",
    "\n",
    "plt.title('Distribución de Titulos') # Título del histograma\n",
    "plt.xlabel('Titulo')                # Etiqueta del eje x\n",
    "plt.ylabel('Frecuencia')            # Etiqueta del eje y\n",
    "plt.show()                          # Mostramos el histograma"
   ]
  },
  {
   "cell_type": "code",
   "execution_count": null,
   "metadata": {},
   "outputs": [],
   "source": [
    "# YOUR CODE HERE\n",
    "\n",
    "sns.lineplot(employee['Years'])\n",
    "\n",
    "plt.title('Distribución de Años en la empresa') # Título del histograma\n",
    "plt.xlabel('Años')                # Etiqueta del eje x\n",
    "plt.ylabel('Frecuencia')            # Etiqueta del eje y\n",
    "plt.show()                          # Mostramos el histograma"
   ]
  },
  {
   "cell_type": "code",
   "execution_count": null,
   "metadata": {},
   "outputs": [],
   "source": [
    "# YOUR CODE HERE\n",
    "\n",
    "sns.histplot(employee['Salary'])\n",
    "\n",
    "plt.title('Distribución de Salarios') # Título del histograma\n",
    "plt.xlabel('Salario')                # Etiqueta del eje x\n",
    "plt.ylabel('Cantidad de Empleados')            # Etiqueta del eje y\n",
    "plt.show()                          # Mostramos el histograma"
   ]
  },
  {
   "cell_type": "markdown",
   "metadata": {},
   "source": [
    "#### ¿Cuál es el salario medio en esta empresa?"
   ]
  },
  {
   "cell_type": "code",
   "execution_count": null,
   "metadata": {},
   "outputs": [],
   "source": [
    "# YOUR CODE HERE\n",
    "\n",
    "print(f\"El salario medio es: {employee['Salary'].median()}\")"
   ]
  },
  {
   "cell_type": "markdown",
   "metadata": {},
   "source": [
    "#### ¿Cuál es el salario más alto?"
   ]
  },
  {
   "cell_type": "code",
   "execution_count": null,
   "metadata": {},
   "outputs": [],
   "source": [
    "# YOUR CODE HERE\n",
    "\n",
    "print(f\"El salario más alto es: {employee['Salary'].max()}\")"
   ]
  },
  {
   "cell_type": "markdown",
   "metadata": {},
   "source": [
    "#### ¿Cuál es el salario más bajo?"
   ]
  },
  {
   "cell_type": "code",
   "execution_count": null,
   "metadata": {},
   "outputs": [],
   "source": [
    "# YOUR CODE HERE\n",
    "\n",
    "print(f\"El salario más bajo es: {employee['Salary'].min()}\")"
   ]
  },
  {
   "cell_type": "markdown",
   "metadata": {},
   "source": [
    "#### ¿Quiénes son los empleados con el salario más bajo?"
   ]
  },
  {
   "cell_type": "code",
   "execution_count": null,
   "metadata": {},
   "outputs": [],
   "source": [
    "# YOUR CODE HERE\n",
    "\n",
    "empleados = employee[employee['Salary'] == employee['Salary'].min()]\n",
    "\n",
    "empleados"
   ]
  },
  {
   "cell_type": "markdown",
   "metadata": {},
   "source": [
    "#### ¿Podría darnos toda la información sobre un empleado llamado David?"
   ]
  },
  {
   "cell_type": "code",
   "execution_count": null,
   "metadata": {},
   "outputs": [],
   "source": [
    "# YOUR CODE HERE\n",
    "\n",
    "David = employee[employee['Name'] == 'David']\n",
    "\n",
    "David"
   ]
  },
  {
   "cell_type": "markdown",
   "metadata": {},
   "source": [
    "#### ¿Podría dar sólo el sueldo de David?"
   ]
  },
  {
   "cell_type": "code",
   "execution_count": null,
   "metadata": {},
   "outputs": [],
   "source": [
    "# YOUR CODE HERE\n",
    "\n",
    "salario = int(David['Salary'].iloc[0])\n",
    "\n",
    "print(salario)"
   ]
  },
  {
   "cell_type": "markdown",
   "metadata": {},
   "source": [
    "#### Printea todas las líneas en las que el cargo es asociado"
   ]
  },
  {
   "cell_type": "code",
   "execution_count": null,
   "metadata": {},
   "outputs": [],
   "source": [
    "# YOUR CODE HERE\n",
    "\n",
    "asociados = employee[employee['Title'] == 'associate']\n",
    "\n",
    "asociados"
   ]
  },
  {
   "cell_type": "markdown",
   "metadata": {},
   "source": [
    "#### Printea las 3 primeras filas de tu dataframe\n",
    "\n",
    "##### Consejo : Hay 2 maneras de hacerlo. Hazlo de las dos maneras"
   ]
  },
  {
   "cell_type": "code",
   "execution_count": null,
   "metadata": {},
   "outputs": [],
   "source": [
    "# YOUR CODE HERE\n",
    "\n",
    "employee.head(3)"
   ]
  },
  {
   "cell_type": "code",
   "execution_count": null,
   "metadata": {},
   "outputs": [],
   "source": [
    "# YOUR CODE HERE\n",
    "\n",
    "employee.iloc[:3]"
   ]
  },
  {
   "cell_type": "markdown",
   "metadata": {},
   "source": [
    "#### ¿Encuentra a los empleados cuyo cargo es asociado y cuyo salario es superior a 55?"
   ]
  },
  {
   "cell_type": "code",
   "execution_count": null,
   "metadata": {},
   "outputs": [],
   "source": [
    "# YOUR CODE HERE\n",
    "\n",
    "asociados = employee[employee['Title'] == 'associate'] \n",
    "asociados_plus55 = asociados[asociados['Salary'] > 55]\n",
    "\n",
    "asociados_plus55"
   ]
  },
  {
   "cell_type": "markdown",
   "metadata": {},
   "source": [
    "#### Agrupa a los empleados en función del número de años que llevan trabajando. ¿Cuáles son los salarios medios de cada grupo?"
   ]
  },
  {
   "cell_type": "code",
   "execution_count": null,
   "metadata": {},
   "outputs": [],
   "source": [
    "# YOUR CODE HERE\n",
    "\n",
    "salaries = employee.groupby('Years')\n",
    "salary_median = salaries.median('Salary')\n",
    "\n",
    "salary_median"
   ]
  },
  {
   "cell_type": "markdown",
   "metadata": {},
   "source": [
    "#### ¿Cuál es el salario medio por título?"
   ]
  },
  {
   "cell_type": "code",
   "execution_count": null,
   "metadata": {},
   "outputs": [],
   "source": [
    "# YOUR CODE HERE\n",
    "\n",
    "titles = employee.groupby('Title')\n",
    "titles_median = titles.median('Salary')\n",
    "\n",
    "titles_median"
   ]
  },
  {
   "cell_type": "markdown",
   "metadata": {},
   "source": [
    "#### Muestra un resumen visual de los datos utilizando boxplot. ¿Cuáles son los cuartiles primero y tercero? Comenta tus resultados.\n",
    "\n",
    "* Pista : Cuantiles vs Cuartiles*.\n",
    "En Probabilidad y Estadística, los cuantiles son puntos de corte que dividen el rango de una distribución de probabilidad en intervalos continuos con probabilidades iguales. Cuando la división es en cuatro partes, los valores de la variable correspondientes al 25%, 50% y 75% de la distribución total se denominan cuartiles."
   ]
  },
  {
   "cell_type": "code",
   "execution_count": null,
   "metadata": {},
   "outputs": [],
   "source": [
    "# YOUR CODE HERE\n",
    "\n",
    "perc25np = np.percentile(employee['Salary'], 25)\n",
    "perc50np = np.percentile(employee['Salary'], 50)\n",
    "perc75np = np.percentile(employee['Salary'], 75)\n",
    "\n",
    "plt.figure(figsize=(20,4))\n",
    "sns.boxplot(data=employee, x='Salary')\n",
    "plt.show()"
   ]
  },
  {
   "cell_type": "code",
   "execution_count": null,
   "metadata": {},
   "outputs": [],
   "source": [
    "# print first quartile here\n",
    "\n",
    "perc25np = np.percentile(employee['Salary'], 25)\n",
    "\n",
    "perc25np"
   ]
  },
  {
   "cell_type": "code",
   "execution_count": null,
   "metadata": {},
   "outputs": [],
   "source": [
    "# print third quartile here\n",
    "\n",
    "perc75np = np.percentile(employee['Salary'], 75)\n",
    "\n",
    "perc75np"
   ]
  },
  {
   "cell_type": "markdown",
   "metadata": {},
   "source": [
    "#### ¿Es diferente el salario medio por género?"
   ]
  },
  {
   "cell_type": "code",
   "execution_count": null,
   "metadata": {},
   "outputs": [],
   "source": [
    "# your answer here\n",
    "\n",
    "male = employee[employee['Gender'] == 'M']\n",
    "female = employee[employee['Gender'] == 'F']\n",
    "\n",
    "med_male = male['Salary'].median()\n",
    "med_female = female['Salary'].median()\n",
    "\n",
    "print(f\"La media de los hombres es {med_male} y la de las mujeres {med_female}, Son iguales? {med_male == med_female}\")"
   ]
  },
  {
   "cell_type": "markdown",
   "metadata": {},
   "source": [
    "#### Encuentra el mínimo, la media y el máximo de todas las columnas numéricas para cada Departamento.\n",
    "\n",
    "##### Sugerencia: Utiliza las funciones de la lección Manipulación de Datos"
   ]
  },
  {
   "cell_type": "code",
   "execution_count": null,
   "metadata": {},
   "outputs": [],
   "source": [
    "# your answer here\n",
    " \n",
    "employee['Department'].unique()\n",
    "\n",
    "it = employee[employee['Department'] == 'IT']\n",
    "hr = employee[employee['Department'] == 'HR']\n",
    "sales = employee[employee['Department'] == 'Sales']\n",
    "\n",
    "it_n = it.select_dtypes(include=[np.number])\n",
    "hr_n = hr.select_dtypes(include=[np.number])\n",
    "sales_n = sales.select_dtypes(include=[np.number])\n",
    "\n",
    "it_sum = it_n.agg(['min', 'max', 'mean'])\n",
    "hr_sum = hr_n.agg(['min', 'max', 'mean'])\n",
    "sales_sum = sales_n.agg(['min', 'max', 'mean'])\n",
    "\n",
    "print('Resumen de IT')\n",
    "print(round(it_sum, 2))\n",
    "print('Resumen de HR')\n",
    "print(round(hr_sum, 2))\n",
    "print('Resumen de Sales')\n",
    "print(round(sales_sum, 2))"
   ]
  },
  {
   "cell_type": "markdown",
   "metadata": {
    "collapsed": true
   },
   "source": [
    "# Desafío 3"
   ]
  },
  {
   "cell_type": "markdown",
   "metadata": {},
   "source": [
    "#### Abra el conjunto de datos Orders.csv. Nombre el conjunto de datos pedidos"
   ]
  },
  {
   "cell_type": "code",
   "execution_count": null,
   "metadata": {},
   "outputs": [],
   "source": [
    "# your answer here\n",
    "\n",
    "orders = pd.read_csv('./Orders.csv')"
   ]
  },
  {
   "cell_type": "markdown",
   "metadata": {},
   "source": [
    "#### Explore su conjunto de datos observando los tipos de datos y las estadísticas de resumen. Comenta tus resultados"
   ]
  },
  {
   "cell_type": "code",
   "execution_count": null,
   "metadata": {},
   "outputs": [],
   "source": [
    "# your answer here\n",
    "\n",
    "orders.head()"
   ]
  },
  {
   "cell_type": "code",
   "execution_count": null,
   "metadata": {},
   "outputs": [],
   "source": [
    "# your answer here\n",
    "\n",
    "orders.describe()"
   ]
  },
  {
   "cell_type": "markdown",
   "metadata": {},
   "source": [
    "#### ¿Cuál es el precio medio de compra?"
   ]
  },
  {
   "cell_type": "code",
   "execution_count": null,
   "metadata": {},
   "outputs": [],
   "source": [
    "# your answer here\n",
    "\n",
    "print(f\"Precio medio: {orders['UnitPrice'].median()}\")"
   ]
  },
  {
   "cell_type": "markdown",
   "metadata": {},
   "source": [
    "#### ¿Cuáles fueron los precios de compra más altos y más bajos? "
   ]
  },
  {
   "cell_type": "code",
   "execution_count": null,
   "metadata": {},
   "outputs": [],
   "source": [
    "# your answer here\n",
    "\n",
    "print(f\"Precio más alto: {orders['UnitPrice'].max()}\")"
   ]
  },
  {
   "cell_type": "code",
   "execution_count": null,
   "metadata": {},
   "outputs": [],
   "source": [
    "# your answer here\n",
    "\n",
    "print(f\"Precio más bajo: {orders['UnitPrice'].min()}\")"
   ]
  },
  {
   "cell_type": "markdown",
   "metadata": {},
   "source": [
    "#### Seleccione todos los clientes que tenemos en España"
   ]
  },
  {
   "cell_type": "code",
   "execution_count": null,
   "metadata": {},
   "outputs": [],
   "source": [
    "# your answer here\n",
    "\n",
    "spain_clients = orders[orders['Country'] == 'Spain']\n",
    "\n",
    "spain_clients"
   ]
  },
  {
   "cell_type": "markdown",
   "metadata": {},
   "source": [
    "#### ¿Cuántos clientes tenemos en España?\n",
    "##### Pista : Utiliza value_counts()"
   ]
  },
  {
   "cell_type": "code",
   "execution_count": null,
   "metadata": {},
   "outputs": [],
   "source": [
    "# your answer here\n",
    "\n",
    "spain_clients['Country'].value_counts()"
   ]
  },
  {
   "cell_type": "markdown",
   "metadata": {},
   "source": [
    "#### Selecciona todos los clientes que han comprado más de 50 artículos ?"
   ]
  },
  {
   "cell_type": "code",
   "execution_count": null,
   "metadata": {},
   "outputs": [],
   "source": [
    "# your answer here\n",
    "\n",
    "orders_plus50 = orders[orders['Quantity'] > 50]\n",
    "\n",
    "orders_plus50"
   ]
  },
  {
   "cell_type": "markdown",
   "metadata": {},
   "source": [
    "#### Selecciona pedidos de España superiores a 50 artículos"
   ]
  },
  {
   "cell_type": "code",
   "execution_count": null,
   "metadata": {},
   "outputs": [],
   "source": [
    "# your answer here\n",
    "\n",
    "orders_plus50_spain = spain_clients[spain_clients['Quantity'] > 50]\n",
    "\n",
    "orders_plus50_spain"
   ]
  },
  {
   "cell_type": "markdown",
   "metadata": {},
   "source": [
    "#### Seleccionar todos los pedidos gratuitos"
   ]
  },
  {
   "cell_type": "code",
   "execution_count": null,
   "metadata": {
    "scrolled": true
   },
   "outputs": [],
   "source": [
    "# your answer here\n",
    "\n",
    "free_orders = orders[orders['amount_spent'] == 0]\n",
    "\n",
    "free_orders"
   ]
  },
  {
   "cell_type": "markdown",
   "metadata": {},
   "source": [
    "#### Seleccionar todos los pedidos que sean 'lunch bag'\n",
    "#### Pista: Utilice las funciones de cadena"
   ]
  },
  {
   "cell_type": "code",
   "execution_count": null,
   "metadata": {},
   "outputs": [],
   "source": [
    "# your answer here\n",
    "\n",
    "lunch_bag_orders = orders[orders['Description'].str.startswith('lunch bag')]\n",
    "\n",
    "lunch_bag_orders"
   ]
  },
  {
   "cell_type": "markdown",
   "metadata": {},
   "source": [
    "#### Seleccione todos los pedidos realizados en 2011 y que sean «lunch bag».  "
   ]
  },
  {
   "cell_type": "code",
   "execution_count": null,
   "metadata": {},
   "outputs": [],
   "source": [
    "# your answer here\n",
    "\n",
    "orders_2011 = orders[orders['year'] == 2011]\n",
    "lunch_bag_orders = orders_2011[orders_2011['Description'].str.startswith('lunch bag')]\n",
    "\n",
    "lunch_bag_orders"
   ]
  },
  {
   "cell_type": "markdown",
   "metadata": {},
   "source": [
    "#### Muestra la distribución de frecuencias del importe gastado en España."
   ]
  },
  {
   "cell_type": "code",
   "execution_count": null,
   "metadata": {},
   "outputs": [],
   "source": [
    "importes_espana = orders.loc[orders['Country'] == 'Spain', 'amount_spent']\n",
    "\n",
    "plt.figure(figsize=(10, 6))\n",
    "sns.histplot(importes_espana, bins=20, kde=True)\n",
    "plt.title('Distribución de Importe Gastado en España')\n",
    "plt.xlabel('Importe Gastado')\n",
    "plt.ylabel('Frecuencia')\n",
    "\n",
    "plt.show()"
   ]
  },
  {
   "cell_type": "code",
   "execution_count": null,
   "metadata": {},
   "outputs": [],
   "source": [
    "# your answer here\n",
    "\n",
    "sns.lineplot(data=spain_clients['amount_spent'])\n",
    "plt.show()"
   ]
  },
  {
   "cell_type": "markdown",
   "metadata": {},
   "source": [
    "#### Seleccione todos los pedidos realizados en el mes de agosto"
   ]
  },
  {
   "cell_type": "code",
   "execution_count": null,
   "metadata": {},
   "outputs": [],
   "source": [
    "# your answer here\n",
    "\n",
    "aug_orders = orders[orders['month'] == 8]\n",
    "\n",
    "aug_orders"
   ]
  },
  {
   "cell_type": "markdown",
   "metadata": {},
   "source": [
    "#### Seleccione cuántos pedidos se realizan por países en el mes de agosto\n",
    "##### Pista: Utilice value_counts()"
   ]
  },
  {
   "cell_type": "code",
   "execution_count": null,
   "metadata": {},
   "outputs": [],
   "source": [
    "# your answer here\n",
    "\n",
    "aug_orders['Country'].value_counts()"
   ]
  },
  {
   "cell_type": "markdown",
   "metadata": {},
   "source": [
    "#### ¿Cuál es el gasto medio por país?"
   ]
  },
  {
   "cell_type": "code",
   "execution_count": null,
   "metadata": {
    "scrolled": true
   },
   "outputs": [],
   "source": [
    "# your answer here\n",
    "\n",
    "countries = orders.groupby('Country')\n",
    "countries_median_spent = countries['amount_spent'].mean()\n",
    "\n",
    "countries_median_spent"
   ]
  },
  {
   "cell_type": "markdown",
   "metadata": {},
   "source": [
    "#### ¿Cuál es el artículo más caro?"
   ]
  },
  {
   "cell_type": "code",
   "execution_count": null,
   "metadata": {
    "scrolled": false
   },
   "outputs": [],
   "source": [
    "# your answer here\n",
    "\n",
    "max_price = orders['UnitPrice'].max()\n",
    "\n",
    "max_art = orders[orders['UnitPrice'] == max_price]\n",
    "max_art['Description']"
   ]
  },
  {
   "cell_type": "markdown",
   "metadata": {},
   "source": [
    "#### ¿Cuál fue la cantidad media gastada al año?"
   ]
  },
  {
   "cell_type": "code",
   "execution_count": null,
   "metadata": {},
   "outputs": [],
   "source": [
    "# your answer here\n",
    "\n",
    "years = orders.groupby('year')\n",
    "years_median_spent = years['amount_spent'].mean()\n",
    "\n",
    "years_median_spent"
   ]
  }
 ],
 "metadata": {
  "anaconda-cloud": {},
  "kernelspec": {
   "display_name": "Python 3.11.5 ('base')",
   "language": "python",
   "name": "python3"
  },
  "language_info": {
   "codemirror_mode": {
    "name": "ipython",
    "version": 3
   },
   "file_extension": ".py",
   "mimetype": "text/x-python",
   "name": "python",
   "nbconvert_exporter": "python",
   "pygments_lexer": "ipython3",
   "version": "3.11.5"
  },
  "vscode": {
   "interpreter": {
    "hash": "40d3a090f54c6569ab1632332b64b2c03c39dcf918b08424e98f38b5ae0af88f"
   }
  }
 },
 "nbformat": 4,
 "nbformat_minor": 1
}
